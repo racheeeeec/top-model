{
 "cells": [
  {
   "cell_type": "code",
   "execution_count": null,
   "id": "86121088",
   "metadata": {},
   "outputs": [],
   "source": [
    "import json\n",
    "import glob\n",
    "\n",
    "result = []\n",
    "for f in glob.glob(\"E:/tweet_divisi/*.json\"): #folder with all the tweets in .json format\n",
    "    with open(f, \"rb\") as infile:\n",
    "        try:\n",
    "             result.append(json.load(infile))\n",
    "        except ValueError:\n",
    "            continue"
   ]
  },
  {
   "cell_type": "code",
   "execution_count": null,
   "id": "56466ea7",
   "metadata": {},
   "outputs": [],
   "source": [
    "with open(\"E:/merged_dataset.json\", \"wb\") as outfile:\n",
    "    json.dump(result, outfile, indent=4)"
   ]
  },
  {
   "cell_type": "code",
   "execution_count": null,
   "id": "ccb77b61",
   "metadata": {
    "scrolled": true
   },
   "outputs": [],
   "source": [
    "import ijson\n",
    "\n",
    "tweets = []\n",
    "\n",
    "with open(r\"C:/Users/Rachele/PycharmProjects/topicmodeling/merged_dataset.json\", \"r\") as f:\n",
    "    for tweet in ijson.items(f, \"item\"):\n",
    "        text = tweet[\"raw_data\"][\"full_text\"]\n",
    "        tweets.append(text)"
   ]
  },
  {
   "cell_type": "code",
   "execution_count": null,
   "id": "87966206",
   "metadata": {},
   "outputs": [],
   "source": [
    "import pandas as pd\n",
    "\n",
    "df = pd.DataFrame(tweets, columns=['tweets']) # creating dataframe with the tweets"
   ]
  },
  {
   "cell_type": "code",
   "execution_count": null,
   "id": "97ce0e54",
   "metadata": {},
   "outputs": [],
   "source": [
    "df.to_csv(r'C:/Users/Rachele/PycharmProjects/topicmodeling/final_tweets.csv')"
   ]
  }
 ],
 "metadata": {
  "kernelspec": {
   "display_name": "Python 3 (ipykernel)",
   "language": "python",
   "name": "python3"
  },
  "language_info": {
   "codemirror_mode": {
    "name": "ipython",
    "version": 3
   },
   "file_extension": ".py",
   "mimetype": "text/x-python",
   "name": "python",
   "nbconvert_exporter": "python",
   "pygments_lexer": "ipython3",
   "version": "3.9.7"
  }
 },
 "nbformat": 4,
 "nbformat_minor": 5
}
